{
 "cells": [
  {
   "cell_type": "markdown",
   "id": "862470c7",
   "metadata": {},
   "source": [
    "#                                   First Question     "
   ]
  },
  {
   "cell_type": "markdown",
   "id": "262afd0e",
   "metadata": {},
   "source": [
    "# A"
   ]
  },
  {
   "cell_type": "code",
   "execution_count": 3,
   "id": "9b1efa2a",
   "metadata": {},
   "outputs": [
    {
     "name": "stdout",
     "output_type": "stream",
     "text": [
      "enter a student name! karam\n",
      "karam  graduated.\n"
     ]
    }
   ],
   "source": [
    "GraduatedStudents=['mohammad','mazen','shaiban','karam','sam']\n",
    "name=input('enter a student name! ')\n",
    "if name in GraduatedStudents:\n",
    "    print(name,' graduated.')\n",
    "else:\n",
    "    print(name,' not graduated.')\n"
   ]
  },
  {
   "cell_type": "markdown",
   "id": "e0ba685d",
   "metadata": {},
   "source": [
    "# B"
   ]
  },
  {
   "cell_type": "code",
   "execution_count": 5,
   "id": "57191ffd",
   "metadata": {},
   "outputs": [
    {
     "name": "stdout",
     "output_type": "stream",
     "text": [
      "[1, 3, 5, 7, 9, 11, 13, 15, 17, 19, 21, 23, 25, 27, 29, 31, 33, 35, 37, 39, 41, 43, 45, 47, 49, 51, 53, 55, 57, 59, 61, 63, 65, 67, 69, 71, 73, 75, 77, 79, 81, 83, 85, 87, 89, 91, 93, 95, 97, 99, 101, 103, 105, 107, 109, 111, 113, 115, 117, 119, 121, 123, 125, 127, 129, 131, 133, 135, 137, 139, 141, 143, 145, 147, 149, 151, 153, 155, 157, 159, 161, 163, 165, 167, 169, 171, 173, 175, 177, 179, 181, 183, 185, 187, 189, 191, 193, 195, 197, 199, 201, 203, 205, 207, 209, 211, 213, 215, 217, 219, 221, 223, 225, 227, 229, 231, 233, 235, 237, 239, 241, 243, 245, 247, 249, 251, 253, 255, 257, 259, 261, 263, 265, 267, 269, 271, 273, 275, 277, 279, 281, 283, 285, 287, 289, 291, 293, 295, 297, 299, 301, 303, 305, 307, 309, 311, 313, 315, 317, 319, 321, 323, 325, 327, 329, 331, 333, 335, 337, 339, 341, 343, 345, 347, 349, 351, 353, 355, 357, 359, 361, 363, 365, 367, 369, 371, 373, 375, 377, 379, 381, 383, 385, 387, 389, 391, 393, 395, 397, 399, 401, 403, 405, 407, 409, 411, 413, 415, 417, 419, 421, 423, 425, 427, 429, 431, 433, 435, 437, 439, 441, 443, 445, 447, 449, 451, 453, 455, 457, 459, 461, 463, 465, 467, 469, 471, 473, 475, 477, 479, 481, 483, 485, 487, 489, 491, 493, 495, 497, 499, 501, 503, 505, 507, 509, 511, 513, 515, 517, 519, 521, 523, 525, 527, 529, 531, 533, 535, 537, 539, 541, 543, 545, 547, 549, 551, 553, 555, 557, 559, 561, 563, 565, 567, 569, 571, 573, 575, 577, 579, 581, 583, 585, 587, 589, 591, 593, 595, 597, 599, 601, 603, 605, 607, 609, 611, 613, 615, 617, 619, 621, 623, 625, 627, 629, 631, 633, 635, 637, 639, 641, 643, 645, 647, 649, 651, 653, 655, 657, 659, 661, 663, 665, 667, 669, 671, 673, 675, 677, 679, 681, 683, 685, 687, 689, 691, 693, 695, 697, 699, 701, 703, 705, 707, 709, 711, 713, 715, 717, 719, 721, 723, 725, 727, 729, 731, 733, 735, 737, 739, 741, 743, 745, 747, 749, 751, 753, 755, 757, 759, 761, 763, 765, 767, 769, 771, 773, 775, 777, 779, 781, 783, 785, 787, 789, 791, 793, 795, 797, 799, 801, 803, 805, 807, 809, 811, 813, 815, 817, 819, 821, 823, 825, 827, 829, 831, 833, 835, 837, 839, 841, 843, 845, 847, 849, 851, 853, 855, 857, 859, 861, 863, 865, 867, 869, 871, 873, 875, 877, 879, 881, 883, 885, 887, 889, 891, 893, 895, 897, 899, 901, 903, 905, 907, 909, 911, 913, 915, 917, 919, 921, 923, 925, 927, 929, 931, 933, 935, 937, 939, 941, 943, 945, 947, 949, 951, 953, 955, 957, 959, 961, 963, 965, 967, 969, 971, 973, 975, 977, 979, 981, 983, 985, 987, 989, 991, 993, 995, 997, 999]\n"
     ]
    }
   ],
   "source": [
    "l=[x for x in range(1,1001) if x%2!=0]\n",
    "print(l)"
   ]
  },
  {
   "cell_type": "markdown",
   "id": "d42d2c30",
   "metadata": {},
   "source": [
    "# C"
   ]
  },
  {
   "cell_type": "code",
   "execution_count": 6,
   "id": "6c78ad2e",
   "metadata": {},
   "outputs": [
    {
     "name": "stdout",
     "output_type": "stream",
     "text": [
      "Programming\n",
      "Physics\n"
     ]
    }
   ],
   "source": [
    "L=['Network','Math','Programming','Physics','Music']\n",
    "for i in range(len(L)):\n",
    "    if L[i][0]=='P':\n",
    "        print(L[i])\n",
    "\n"
   ]
  },
  {
   "cell_type": "markdown",
   "id": "787f654e",
   "metadata": {},
   "source": [
    "# D"
   ]
  },
  {
   "cell_type": "code",
   "execution_count": 7,
   "id": "d089b797",
   "metadata": {},
   "outputs": [
    {
     "name": "stdout",
     "output_type": "stream",
     "text": [
      "{1: 1, 2: 4, 3: 9, 4: 16, 5: 25, 6: 36, 7: 49, 8: 64, 9: 81, 10: 100}\n"
     ]
    }
   ],
   "source": [
    "d={X:X**2 for X in range(1,11)}\n",
    "print(d)"
   ]
  },
  {
   "cell_type": "markdown",
   "id": "9853052d",
   "metadata": {},
   "source": [
    "# Second Question"
   ]
  },
  {
   "cell_type": "code",
   "execution_count": 10,
   "id": "8da81446",
   "metadata": {},
   "outputs": [
    {
     "name": "stdout",
     "output_type": "stream",
     "text": [
      "أدخل عدد عشري لتحويله إلى ثنائي13\n",
      "1101\n"
     ]
    }
   ],
   "source": [
    "d=int(input(\"أدخل عدد عشري لتحويله إلى ثنائي\"))\n",
    "b=[]\n",
    "while d>0:\n",
    "    a=d%2\n",
    "    a1=str(a)\n",
    "    b.append(a1)\n",
    "    d//=2\n",
    "b.reverse()\n",
    "ok=\"\".join(b)\n",
    "print(ok)\n",
    "\n"
   ]
  },
  {
   "cell_type": "markdown",
   "id": "5164c9c4",
   "metadata": {},
   "source": [
    "# Third Question"
   ]
  },
  {
   "cell_type": "code",
   "execution_count": 12,
   "id": "d1d22ae3",
   "metadata": {},
   "outputs": [
    {
     "name": "stdout",
     "output_type": "stream",
     "text": [
      "1+1\n",
      "enter answer: 2\n",
      "1+2\n",
      "enter answer: 3\n",
      "1+3\n",
      "enter answer: 4\n",
      "1+14\n",
      "enter answer: 15\n",
      "1+51\n",
      "enter answer: 2\n",
      "1+41\n",
      "enter answer: 1\n",
      "enter your name mohammad\n",
      "{'name:': 'mohammad', 'true:': 4, 'from': 6}\n"
     ]
    }
   ],
   "source": [
    "import json\n",
    "filename=open('qustions.json','r')\n",
    "questions=json.load(filename)\n",
    "i=0\n",
    "j=0\n",
    "for k,v in questions.items():\n",
    "    j+=1\n",
    "    print(k)\n",
    "    answer=input(\"enter answer: \")\n",
    "    if answer==v:\n",
    "        i+=1\n",
    "filename.close()\n",
    "nameuser=input('enter your name ')\n",
    "outfile='o.json'\n",
    "outfile=open(outfile,'w')\n",
    "json.dump({\"name:\":nameuser,\"true:\":i,\"from\":j},outfile)\n",
    "outfile.close()\n",
    "print({\"name:\":nameuser,\"true:\":i,\"from\":j})\n"
   ]
  },
  {
   "cell_type": "code",
   "execution_count": null,
   "id": "8154f7e1",
   "metadata": {},
   "outputs": [],
   "source": []
  }
 ],
 "metadata": {
  "kernelspec": {
   "display_name": "Python 3 (ipykernel)",
   "language": "python",
   "name": "python3"
  },
  "language_info": {
   "codemirror_mode": {
    "name": "ipython",
    "version": 3
   },
   "file_extension": ".py",
   "mimetype": "text/x-python",
   "name": "python",
   "nbconvert_exporter": "python",
   "pygments_lexer": "ipython3",
   "version": "3.10.4"
  }
 },
 "nbformat": 4,
 "nbformat_minor": 5
}
